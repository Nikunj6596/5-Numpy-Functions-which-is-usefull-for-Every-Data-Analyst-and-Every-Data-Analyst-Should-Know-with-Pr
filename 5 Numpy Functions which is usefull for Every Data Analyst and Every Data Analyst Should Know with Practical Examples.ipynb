{
 "cells": [
  {
   "cell_type": "markdown",
   "id": "ab71f2c6",
   "metadata": {},
   "source": [
    "# 5 Numpy Functions which is usefull for Every Data Analyst and Every Data Analyst Should Know with Practical Examples"
   ]
  },
  {
   "cell_type": "markdown",
   "id": "8bc860e4",
   "metadata": {},
   "source": [
    "## What is Numpy?\n",
    "**NumPy is a Python library for working with large, multi-dimensional arrays and matrices of numerical data. It provides a high-performance multidimensional array object, and tools for working with these arrays. NumPy is an essential library for scientific computing with Python, and is widely used in many scientific, engineering, and data analysis applications.**\n",
    "\n",
    "**NumPy arrays are used to store and manipulate large arrays of homogeneous numerical data (i.e., data of the same type, such as integers or floating point values). NumPy arrays are more efficient and more convenient to use than Python's built-in list or tuple objects, because they allow you to perform element-wise operations (e.g., addition, multiplication, etc.) on the entire array, rather than having to loop over the elements of the array yourself. NumPy also provides a large number of functions for performing mathematical operations on arrays, such as linear algebra functions, statistical functions, and other types of numerical operations.**\n",
    "\n",
    "**In addition to its array object, NumPy also provides functions for reading and writing arrays to and from files, and tools for integrating NumPy with other scientific libraries like SciPy and Matplotlib.**\n",
    "\n",
    "\n",
    "\n",
    "\n"
   ]
  },
  {
   "cell_type": "code",
   "execution_count": null,
   "id": "e9ca6e96",
   "metadata": {},
   "outputs": [
    {
     "data": {
      "application/javascript": [
       "window.require && require([\"base/js/namespace\"],function(Jupyter){Jupyter.notebook.save_checkpoint()})"
      ],
      "text/plain": [
       "<IPython.core.display.Javascript object>"
      ]
     },
     "metadata": {},
     "output_type": "display_data"
    }
   ],
   "source": [
    "jovian.commit(project='numpy-array-operations')"
   ]
  },
  {
   "cell_type": "markdown",
   "id": "885afbcf",
   "metadata": {},
   "source": [
    "# List of functions explained \n",
    "- function 1 = np.linalg.solve\n",
    "- function 2 = np.place\n",
    "- function 3 = np.clip\n",
    "- function 4 = np.copyto\n",
    "- function 5 = np.stack"
   ]
  },
  {
   "cell_type": "markdown",
   "id": "774206b0",
   "metadata": {},
   "source": [
    "## Function 1 - np.linalg.solve\n",
    "This function falls under the category of linear algebric function. Generally we have to solve liner equations to get the required value. By using this function, we can solve the equations and solve the problems."
   ]
  },
  {
   "cell_type": "code",
   "execution_count": 2,
   "id": "cb841201",
   "metadata": {},
   "outputs": [],
   "source": [
    "import numpy as np"
   ]
  },
  {
   "cell_type": "code",
   "execution_count": 3,
   "id": "d471b616",
   "metadata": {},
   "outputs": [
    {
     "data": {
      "text/plain": [
       "array([ 1.94444444, -0.58333333])"
      ]
     },
     "execution_count": 3,
     "metadata": {},
     "output_type": "execute_result"
    }
   ],
   "source": [
    "# Example 1 - working \n",
    "a = np.array([[6, 8], \n",
    "        [9, 6]])\n",
    "\n",
    "b = np.array([7, 14])\n",
    "\n",
    "x=np.linalg.solve(a,b)\n",
    "x"
   ]
  },
  {
   "cell_type": "markdown",
   "id": "1e641782",
   "metadata": {},
   "source": [
    "This is the example of linear system of equations of two variables.So we get two values as a solution.that means that gives the solution of linear equations in the matrix form."
   ]
  },
  {
   "cell_type": "code",
   "execution_count": 4,
   "id": "03145084",
   "metadata": {},
   "outputs": [
    {
     "data": {
      "text/plain": [
       "array([ 70.875     ,  -0.55833333, -52.975     ])"
      ]
     },
     "execution_count": 4,
     "metadata": {},
     "output_type": "execute_result"
    }
   ],
   "source": [
    "# Example 2 - working\n",
    "c=np.array([[7,6,9],[4,96,4],[12,75,15]])\n",
    "\n",
    "d=np.array([16,18,14])\n",
    "\n",
    "y=np.linalg.solve(c,d)\n",
    "\n",
    "y"
   ]
  },
  {
   "cell_type": "markdown",
   "id": "a3302f56",
   "metadata": {},
   "source": [
    "This is the example of linear system of equations of three variables.In this case we get the three solutions."
   ]
  },
  {
   "cell_type": "code",
   "execution_count": 5,
   "id": "c7d859cb",
   "metadata": {},
   "outputs": [
    {
     "ename": "ValueError",
     "evalue": "solve1: Input operand 1 has a mismatch in its core dimension 0, with gufunc signature (m,m),(m)->(m) (size 2 is different from 3)",
     "output_type": "error",
     "traceback": [
      "\u001b[0;31m---------------------------------------------------------------------------\u001b[0m",
      "\u001b[0;31mValueError\u001b[0m                                Traceback (most recent call last)",
      "\u001b[0;32m/var/folders/my/8pkbz_t570gfhj_kxjwfn3m00000gn/T/ipykernel_5742/2147050245.py\u001b[0m in \u001b[0;36m<module>\u001b[0;34m\u001b[0m\n\u001b[1;32m      6\u001b[0m \u001b[0mf\u001b[0m\u001b[0;34m=\u001b[0m\u001b[0mnp\u001b[0m\u001b[0;34m.\u001b[0m\u001b[0marray\u001b[0m\u001b[0;34m(\u001b[0m\u001b[0;34m[\u001b[0m\u001b[0;36m40\u001b[0m\u001b[0;34m,\u001b[0m\u001b[0;36m64\u001b[0m\u001b[0;34m]\u001b[0m\u001b[0;34m)\u001b[0m\u001b[0;34m\u001b[0m\u001b[0;34m\u001b[0m\u001b[0m\n\u001b[1;32m      7\u001b[0m \u001b[0;34m\u001b[0m\u001b[0m\n\u001b[0;32m----> 8\u001b[0;31m \u001b[0mx\u001b[0m\u001b[0;34m=\u001b[0m\u001b[0mnp\u001b[0m\u001b[0;34m.\u001b[0m\u001b[0mlinalg\u001b[0m\u001b[0;34m.\u001b[0m\u001b[0msolve\u001b[0m\u001b[0;34m(\u001b[0m\u001b[0me\u001b[0m\u001b[0;34m,\u001b[0m\u001b[0mf\u001b[0m\u001b[0;34m)\u001b[0m\u001b[0;34m\u001b[0m\u001b[0;34m\u001b[0m\u001b[0m\n\u001b[0m\u001b[1;32m      9\u001b[0m \u001b[0mx\u001b[0m\u001b[0;34m\u001b[0m\u001b[0;34m\u001b[0m\u001b[0m\n",
      "\u001b[0;32m~/opt/anaconda3/lib/python3.9/site-packages/numpy/core/overrides.py\u001b[0m in \u001b[0;36msolve\u001b[0;34m(*args, **kwargs)\u001b[0m\n",
      "\u001b[0;32m~/opt/anaconda3/lib/python3.9/site-packages/numpy/linalg/linalg.py\u001b[0m in \u001b[0;36msolve\u001b[0;34m(a, b)\u001b[0m\n\u001b[1;32m    398\u001b[0m     \u001b[0msignature\u001b[0m \u001b[0;34m=\u001b[0m \u001b[0;34m'DD->D'\u001b[0m \u001b[0;32mif\u001b[0m \u001b[0misComplexType\u001b[0m\u001b[0;34m(\u001b[0m\u001b[0mt\u001b[0m\u001b[0;34m)\u001b[0m \u001b[0;32melse\u001b[0m \u001b[0;34m'dd->d'\u001b[0m\u001b[0;34m\u001b[0m\u001b[0;34m\u001b[0m\u001b[0m\n\u001b[1;32m    399\u001b[0m     \u001b[0mextobj\u001b[0m \u001b[0;34m=\u001b[0m \u001b[0mget_linalg_error_extobj\u001b[0m\u001b[0;34m(\u001b[0m\u001b[0m_raise_linalgerror_singular\u001b[0m\u001b[0;34m)\u001b[0m\u001b[0;34m\u001b[0m\u001b[0;34m\u001b[0m\u001b[0m\n\u001b[0;32m--> 400\u001b[0;31m     \u001b[0mr\u001b[0m \u001b[0;34m=\u001b[0m \u001b[0mgufunc\u001b[0m\u001b[0;34m(\u001b[0m\u001b[0ma\u001b[0m\u001b[0;34m,\u001b[0m \u001b[0mb\u001b[0m\u001b[0;34m,\u001b[0m \u001b[0msignature\u001b[0m\u001b[0;34m=\u001b[0m\u001b[0msignature\u001b[0m\u001b[0;34m,\u001b[0m \u001b[0mextobj\u001b[0m\u001b[0;34m=\u001b[0m\u001b[0mextobj\u001b[0m\u001b[0;34m)\u001b[0m\u001b[0;34m\u001b[0m\u001b[0;34m\u001b[0m\u001b[0m\n\u001b[0m\u001b[1;32m    401\u001b[0m \u001b[0;34m\u001b[0m\u001b[0m\n\u001b[1;32m    402\u001b[0m     \u001b[0;32mreturn\u001b[0m \u001b[0mwrap\u001b[0m\u001b[0;34m(\u001b[0m\u001b[0mr\u001b[0m\u001b[0;34m.\u001b[0m\u001b[0mastype\u001b[0m\u001b[0;34m(\u001b[0m\u001b[0mresult_t\u001b[0m\u001b[0;34m,\u001b[0m \u001b[0mcopy\u001b[0m\u001b[0;34m=\u001b[0m\u001b[0;32mFalse\u001b[0m\u001b[0;34m)\u001b[0m\u001b[0;34m)\u001b[0m\u001b[0;34m\u001b[0m\u001b[0;34m\u001b[0m\u001b[0m\n",
      "\u001b[0;31mValueError\u001b[0m: solve1: Input operand 1 has a mismatch in its core dimension 0, with gufunc signature (m,m),(m)->(m) (size 2 is different from 3)"
     ]
    }
   ],
   "source": [
    "# Example 3 - breaking \n",
    "e =np.array ([[14, 2,8], \n",
    "              [13, 24,87],\n",
    "             [50,70,90]])\n",
    "\n",
    "f=np.array([40,64])\n",
    "\n",
    "x=np.linalg.solve(e,f)\n",
    "x"
   ]
  },
  {
   "cell_type": "markdown",
   "id": "2b9b6332",
   "metadata": {},
   "source": [
    "n this example the number of constant are not equal to the number of system of equations. Thats why this does not work. In order to run it correctly, we have to make the number of constant equal to the number of system of equations."
   ]
  },
  {
   "cell_type": "markdown",
   "id": "606d0a32",
   "metadata": {},
   "source": [
    "This function is used generally to solve the system of linear equations. It is a common mathematical operation and reduce the time of operating in calculator.\n",
    "\n"
   ]
  },
  {
   "cell_type": "code",
   "execution_count": 6,
   "id": "6fd5b57d",
   "metadata": {},
   "outputs": [
    {
     "data": {
      "application/javascript": [
       "window.require && require([\"base/js/namespace\"],function(Jupyter){Jupyter.notebook.save_checkpoint()})"
      ],
      "text/plain": [
       "<IPython.core.display.Javascript object>"
      ]
     },
     "metadata": {},
     "output_type": "display_data"
    },
    {
     "name": "stdout",
     "output_type": "stream",
     "text": [
      "[jovian] Updating notebook \"nikpatel6596/numpy-array-operations\" on https://jovian.ai/\u001b[0m\n",
      "[jovian] Committed successfully! https://jovian.ai/nikpatel6596/numpy-array-operations\u001b[0m\n"
     ]
    },
    {
     "data": {
      "text/plain": [
       "'https://jovian.ai/nikpatel6596/numpy-array-operations'"
      ]
     },
     "execution_count": 6,
     "metadata": {},
     "output_type": "execute_result"
    }
   ],
   "source": [
    "jovian.commit()"
   ]
  },
  {
   "cell_type": "markdown",
   "id": "2fb212c4",
   "metadata": {},
   "source": [
    "## Function 2 - np.place\n",
    "NumPy's `np.place` function is a tool for placing the elements of one array into the specified locations of another array. It allows you to specify the positions at which the elements of the first array should be placed, and the values of the second array at those positions will be replaced with the corresponding elements of the first array.\n",
    "\n",
    "Here is an example of how np.place can be used:"
   ]
  },
  {
   "cell_type": "code",
   "execution_count": 34,
   "id": "bcddc7f6",
   "metadata": {},
   "outputs": [
    {
     "data": {
      "text/plain": [
       "array([[10,  9],\n",
       "       [10, 11]])"
      ]
     },
     "execution_count": 34,
     "metadata": {},
     "output_type": "execute_result"
    }
   ],
   "source": [
    "# Example 1 - working\n",
    "import numpy as np\n",
    "\n",
    "p=np.array([[8,9],\n",
    "          [10,11]])\n",
    "\n",
    "np.place(p,p==8,10)\n",
    "\n",
    "p"
   ]
  },
  {
   "cell_type": "markdown",
   "id": "424cdbf3",
   "metadata": {},
   "source": [
    "In this example we create a array, then we like to replace the elements of array with some specific element. So we put a condition in which if the element of array is equal to 8 it would be replaced by number 10."
   ]
  },
  {
   "cell_type": "code",
   "execution_count": 12,
   "id": "d1f15ae9",
   "metadata": {},
   "outputs": [
    {
     "data": {
      "text/plain": [
       "array([[ 0,  1,  2],\n",
       "       [ 3, 33, 22],\n",
       "       [33, 22, 33]])"
      ]
     },
     "execution_count": 12,
     "metadata": {},
     "output_type": "execute_result"
    }
   ],
   "source": [
    "# Example 2 - working\n",
    "\n",
    "x=np.arange(9).reshape(3,3)\n",
    "\n",
    "np.place(x,x>3,[33,22])\n",
    "x"
   ]
  },
  {
   "cell_type": "markdown",
   "id": "ecbc39ed",
   "metadata": {},
   "source": [
    "It is a little bit of advaned form of previous example. In this example we create a (3,3) array then put on a condition in which if number is greater than 2, it would be replaced by the series of number 33 and 22 one after another."
   ]
  },
  {
   "cell_type": "code",
   "execution_count": 19,
   "id": "9bf265f1",
   "metadata": {},
   "outputs": [
    {
     "ename": "ValueError",
     "evalue": "cannot reshape array of size 9 into shape (3,3,3)",
     "output_type": "error",
     "traceback": [
      "\u001b[0;31m---------------------------------------------------------------------------\u001b[0m",
      "\u001b[0;31mValueError\u001b[0m                                Traceback (most recent call last)",
      "\u001b[0;32m/var/folders/my/8pkbz_t570gfhj_kxjwfn3m00000gn/T/ipykernel_5742/3709729984.py\u001b[0m in \u001b[0;36m<module>\u001b[0;34m\u001b[0m\n\u001b[1;32m      1\u001b[0m \u001b[0;31m# Example 3 - breaking (to illustrate when it breaks)\u001b[0m\u001b[0;34m\u001b[0m\u001b[0;34m\u001b[0m\u001b[0m\n\u001b[0;32m----> 2\u001b[0;31m \u001b[0mx\u001b[0m\u001b[0;34m=\u001b[0m\u001b[0mnp\u001b[0m\u001b[0;34m.\u001b[0m\u001b[0marange\u001b[0m\u001b[0;34m(\u001b[0m\u001b[0;36m9\u001b[0m\u001b[0;34m)\u001b[0m\u001b[0;34m.\u001b[0m\u001b[0mreshape\u001b[0m\u001b[0;34m(\u001b[0m\u001b[0;36m3\u001b[0m\u001b[0;34m,\u001b[0m\u001b[0;36m3\u001b[0m\u001b[0;34m,\u001b[0m\u001b[0;36m3\u001b[0m\u001b[0;34m)\u001b[0m\u001b[0;34m\u001b[0m\u001b[0;34m\u001b[0m\u001b[0m\n\u001b[0m\u001b[1;32m      3\u001b[0m \u001b[0;34m\u001b[0m\u001b[0m\n\u001b[1;32m      4\u001b[0m \u001b[0mnp\u001b[0m\u001b[0;34m.\u001b[0m\u001b[0mplace\u001b[0m\u001b[0;34m(\u001b[0m\u001b[0mx\u001b[0m\u001b[0;34m,\u001b[0m\u001b[0mx\u001b[0m\u001b[0;34m>\u001b[0m\u001b[0;36m3\u001b[0m\u001b[0;34m,\u001b[0m\u001b[0;34m[\u001b[0m\u001b[0;36m33\u001b[0m\u001b[0;34m,\u001b[0m\u001b[0;36m22\u001b[0m\u001b[0;34m]\u001b[0m\u001b[0;34m)\u001b[0m\u001b[0;34m\u001b[0m\u001b[0;34m\u001b[0m\u001b[0m\n\u001b[1;32m      5\u001b[0m \u001b[0mx\u001b[0m\u001b[0;34m\u001b[0m\u001b[0;34m\u001b[0m\u001b[0m\n",
      "\u001b[0;31mValueError\u001b[0m: cannot reshape array of size 9 into shape (3,3,3)"
     ]
    }
   ],
   "source": [
    "# Example 3 - breaking (to illustrate when it breaks)\n",
    "x=np.arange(9).reshape(3,3,3)\n",
    "\n",
    "np.place(x,x>3,[33,22])\n",
    "x"
   ]
  },
  {
   "cell_type": "markdown",
   "id": "8d41542d",
   "metadata": {},
   "source": [
    "Mismatched shapes: If the shape of the array being modified (the first argument to np.place) does not match the shape of the values array, an IndexError will be raised. Make sure that the shapes of these arrays match, or use a compatible indexing scheme "
   ]
  },
  {
   "cell_type": "markdown",
   "id": "876c9632",
   "metadata": {},
   "source": [
    "## Function 3 - ???\n",
    "\n",
    "NumPy's `np.clip` function is used to clip (limit) the values of an array to a given range. It allows you to specify a minimum and maximum value, and all values in the array that are less than the minimum will be replaced with the minimum, and all values that are greater than the maximum will be replaced with the maximum. The values between the minimum and maximum are left unchanged.\n",
    "\n",
    "Here is an example of how np.clip can be used:"
   ]
  },
  {
   "cell_type": "code",
   "execution_count": 20,
   "id": "f0625237",
   "metadata": {},
   "outputs": [
    {
     "name": "stdout",
     "output_type": "stream",
     "text": [
      "[[ -9   7  -9   5  -4]\n",
      " [ -4  -9   1   3  -9]\n",
      " [ -3 -10  -6  -3   3]\n",
      " [  8   0  -9  -7  -5]\n",
      " [ -7   8   9  -9   0]]\n",
      "[[-5  5 -5  5 -4]\n",
      " [-4 -5  1  3 -5]\n",
      " [-3 -5 -5 -3  3]\n",
      " [ 5  0 -5 -5 -5]\n",
      " [-5  5  5 -5  0]]\n"
     ]
    }
   ],
   "source": [
    "# Example 1 - working\n",
    "a = np.random.randint(-10, 10, size=(5, 5))\n",
    "\n",
    "b = np.clip(a, -5, 5)\n",
    "\n",
    "print(a)\n",
    "print(b)"
   ]
  },
  {
   "cell_type": "markdown",
   "id": "cbd050bb",
   "metadata": {},
   "source": [
    "In this example, a is an array of random values between -10 and 10, and b is the result of clipping the values in a to the range [-5, 5]. All values in a that are less than -5 are replaced with -5 in b, and all values in a that are greater than 5 are replaced with 5 in b. The values between -5 and 5 are left unchanged."
   ]
  },
  {
   "cell_type": "code",
   "execution_count": 23,
   "id": "63e777d2",
   "metadata": {},
   "outputs": [
    {
     "name": "stdout",
     "output_type": "stream",
     "text": [
      "[[ 1  2 -3  9  4]\n",
      " [-2 -5 -2  4  6]\n",
      " [-5  2  0  3 -5]\n",
      " [ 5  7  4  0 -5]\n",
      " [-5  0  7 -5 -5]]\n"
     ]
    }
   ],
   "source": [
    "# Example 2 - working\n",
    "a = np.random.randint(-10, 10, size=(5, 5))\n",
    "\n",
    "b = np.clip(a, -5, None)\n",
    "\n",
    "print(b)"
   ]
  },
  {
   "cell_type": "markdown",
   "id": "18cc8a83",
   "metadata": {},
   "source": [
    "You can also specify only one of the minimum or maximum values, in which case only the values below or above the specified value will be replaced\n",
    "\n",
    "In this example, b is the result of clipping the values in a to the range [-5, inf], so only the values less than -5 are replaced with -5.\n",
    "\n",
    "`np.clip` is a useful function for preprocessing data and ensuring that all values fall within a given range. It is often used in machine learning and data analysis applications to ensure that data is within a valid range for further processing or analysis."
   ]
  },
  {
   "cell_type": "code",
   "execution_count": 24,
   "id": "24b219ae",
   "metadata": {},
   "outputs": [
    {
     "ename": "UFuncTypeError",
     "evalue": "ufunc 'clip' did not contain a loop with signature matching types (dtype('int64'), dtype('<U2'), dtype('<U1')) -> None",
     "output_type": "error",
     "traceback": [
      "\u001b[0;31m---------------------------------------------------------------------------\u001b[0m",
      "\u001b[0;31mUFuncTypeError\u001b[0m                            Traceback (most recent call last)",
      "\u001b[0;32m~/opt/anaconda3/lib/python3.9/site-packages/numpy/core/fromnumeric.py\u001b[0m in \u001b[0;36m_wrapfunc\u001b[0;34m(obj, method, *args, **kwds)\u001b[0m\n\u001b[1;32m     56\u001b[0m     \u001b[0;32mtry\u001b[0m\u001b[0;34m:\u001b[0m\u001b[0;34m\u001b[0m\u001b[0;34m\u001b[0m\u001b[0m\n\u001b[0;32m---> 57\u001b[0;31m         \u001b[0;32mreturn\u001b[0m \u001b[0mbound\u001b[0m\u001b[0;34m(\u001b[0m\u001b[0;34m*\u001b[0m\u001b[0margs\u001b[0m\u001b[0;34m,\u001b[0m \u001b[0;34m**\u001b[0m\u001b[0mkwds\u001b[0m\u001b[0;34m)\u001b[0m\u001b[0;34m\u001b[0m\u001b[0;34m\u001b[0m\u001b[0m\n\u001b[0m\u001b[1;32m     58\u001b[0m     \u001b[0;32mexcept\u001b[0m \u001b[0mTypeError\u001b[0m\u001b[0;34m:\u001b[0m\u001b[0;34m\u001b[0m\u001b[0;34m\u001b[0m\u001b[0m\n",
      "\u001b[0;32m~/opt/anaconda3/lib/python3.9/site-packages/numpy/core/_methods.py\u001b[0m in \u001b[0;36m_clip\u001b[0;34m(a, min, max, out, casting, **kwargs)\u001b[0m\n\u001b[1;32m    159\u001b[0m     \u001b[0;32melse\u001b[0m\u001b[0;34m:\u001b[0m\u001b[0;34m\u001b[0m\u001b[0;34m\u001b[0m\u001b[0m\n\u001b[0;32m--> 160\u001b[0;31m         return _clip_dep_invoke_with_casting(\n\u001b[0m\u001b[1;32m    161\u001b[0m             um.clip, a, min, max, out=out, casting=casting, **kwargs)\n",
      "\u001b[0;32m~/opt/anaconda3/lib/python3.9/site-packages/numpy/core/_methods.py\u001b[0m in \u001b[0;36m_clip_dep_invoke_with_casting\u001b[0;34m(ufunc, out, casting, *args, **kwargs)\u001b[0m\n\u001b[1;32m    113\u001b[0m     \u001b[0;32mtry\u001b[0m\u001b[0;34m:\u001b[0m\u001b[0;34m\u001b[0m\u001b[0;34m\u001b[0m\u001b[0m\n\u001b[0;32m--> 114\u001b[0;31m         \u001b[0;32mreturn\u001b[0m \u001b[0mufunc\u001b[0m\u001b[0;34m(\u001b[0m\u001b[0;34m*\u001b[0m\u001b[0margs\u001b[0m\u001b[0;34m,\u001b[0m \u001b[0mout\u001b[0m\u001b[0;34m=\u001b[0m\u001b[0mout\u001b[0m\u001b[0;34m,\u001b[0m \u001b[0;34m**\u001b[0m\u001b[0mkwargs\u001b[0m\u001b[0;34m)\u001b[0m\u001b[0;34m\u001b[0m\u001b[0;34m\u001b[0m\u001b[0m\n\u001b[0m\u001b[1;32m    115\u001b[0m     \u001b[0;32mexcept\u001b[0m \u001b[0m_exceptions\u001b[0m\u001b[0;34m.\u001b[0m\u001b[0m_UFuncOutputCastingError\u001b[0m \u001b[0;32mas\u001b[0m \u001b[0me\u001b[0m\u001b[0;34m:\u001b[0m\u001b[0;34m\u001b[0m\u001b[0;34m\u001b[0m\u001b[0m\n",
      "\u001b[0;31mUFuncTypeError\u001b[0m: ufunc 'clip' did not contain a loop with signature matching types (dtype('int64'), dtype('<U2'), dtype('<U1')) -> None",
      "\nDuring handling of the above exception, another exception occurred:\n",
      "\u001b[0;31mUFuncTypeError\u001b[0m                            Traceback (most recent call last)",
      "\u001b[0;32m/var/folders/my/8pkbz_t570gfhj_kxjwfn3m00000gn/T/ipykernel_5742/3554845929.py\u001b[0m in \u001b[0;36m<module>\u001b[0;34m\u001b[0m\n\u001b[1;32m      2\u001b[0m \u001b[0ma\u001b[0m \u001b[0;34m=\u001b[0m \u001b[0mnp\u001b[0m\u001b[0;34m.\u001b[0m\u001b[0mrandom\u001b[0m\u001b[0;34m.\u001b[0m\u001b[0mrandint\u001b[0m\u001b[0;34m(\u001b[0m\u001b[0;34m-\u001b[0m\u001b[0;36m10\u001b[0m\u001b[0;34m,\u001b[0m \u001b[0;36m10\u001b[0m\u001b[0;34m,\u001b[0m \u001b[0msize\u001b[0m\u001b[0;34m=\u001b[0m\u001b[0;34m(\u001b[0m\u001b[0;36m5\u001b[0m\u001b[0;34m,\u001b[0m \u001b[0;36m5\u001b[0m\u001b[0;34m)\u001b[0m\u001b[0;34m)\u001b[0m\u001b[0;34m\u001b[0m\u001b[0;34m\u001b[0m\u001b[0m\n\u001b[1;32m      3\u001b[0m \u001b[0;34m\u001b[0m\u001b[0m\n\u001b[0;32m----> 4\u001b[0;31m \u001b[0mb\u001b[0m \u001b[0;34m=\u001b[0m \u001b[0mnp\u001b[0m\u001b[0;34m.\u001b[0m\u001b[0mclip\u001b[0m\u001b[0;34m(\u001b[0m\u001b[0ma\u001b[0m\u001b[0;34m,\u001b[0m \u001b[0;34m'-5'\u001b[0m\u001b[0;34m,\u001b[0m \u001b[0;34m'5'\u001b[0m\u001b[0;34m)\u001b[0m\u001b[0;34m\u001b[0m\u001b[0;34m\u001b[0m\u001b[0m\n\u001b[0m\u001b[1;32m      5\u001b[0m \u001b[0mprint\u001b[0m\u001b[0;34m(\u001b[0m\u001b[0ma\u001b[0m\u001b[0;34m)\u001b[0m\u001b[0;34m\u001b[0m\u001b[0;34m\u001b[0m\u001b[0m\n\u001b[1;32m      6\u001b[0m \u001b[0mprint\u001b[0m\u001b[0;34m(\u001b[0m\u001b[0mb\u001b[0m\u001b[0;34m)\u001b[0m\u001b[0;34m\u001b[0m\u001b[0;34m\u001b[0m\u001b[0m\n",
      "\u001b[0;32m~/opt/anaconda3/lib/python3.9/site-packages/numpy/core/overrides.py\u001b[0m in \u001b[0;36mclip\u001b[0;34m(*args, **kwargs)\u001b[0m\n",
      "\u001b[0;32m~/opt/anaconda3/lib/python3.9/site-packages/numpy/core/fromnumeric.py\u001b[0m in \u001b[0;36mclip\u001b[0;34m(a, a_min, a_max, out, **kwargs)\u001b[0m\n\u001b[1;32m   2152\u001b[0m \u001b[0;34m\u001b[0m\u001b[0m\n\u001b[1;32m   2153\u001b[0m     \"\"\"\n\u001b[0;32m-> 2154\u001b[0;31m     \u001b[0;32mreturn\u001b[0m \u001b[0m_wrapfunc\u001b[0m\u001b[0;34m(\u001b[0m\u001b[0ma\u001b[0m\u001b[0;34m,\u001b[0m \u001b[0;34m'clip'\u001b[0m\u001b[0;34m,\u001b[0m \u001b[0ma_min\u001b[0m\u001b[0;34m,\u001b[0m \u001b[0ma_max\u001b[0m\u001b[0;34m,\u001b[0m \u001b[0mout\u001b[0m\u001b[0;34m=\u001b[0m\u001b[0mout\u001b[0m\u001b[0;34m,\u001b[0m \u001b[0;34m**\u001b[0m\u001b[0mkwargs\u001b[0m\u001b[0;34m)\u001b[0m\u001b[0;34m\u001b[0m\u001b[0;34m\u001b[0m\u001b[0m\n\u001b[0m\u001b[1;32m   2155\u001b[0m \u001b[0;34m\u001b[0m\u001b[0m\n\u001b[1;32m   2156\u001b[0m \u001b[0;34m\u001b[0m\u001b[0m\n",
      "\u001b[0;32m~/opt/anaconda3/lib/python3.9/site-packages/numpy/core/fromnumeric.py\u001b[0m in \u001b[0;36m_wrapfunc\u001b[0;34m(obj, method, *args, **kwds)\u001b[0m\n\u001b[1;32m     64\u001b[0m         \u001b[0;31m# Call _wrapit from within the except clause to ensure a potential\u001b[0m\u001b[0;34m\u001b[0m\u001b[0;34m\u001b[0m\u001b[0m\n\u001b[1;32m     65\u001b[0m         \u001b[0;31m# exception has a traceback chain.\u001b[0m\u001b[0;34m\u001b[0m\u001b[0;34m\u001b[0m\u001b[0m\n\u001b[0;32m---> 66\u001b[0;31m         \u001b[0;32mreturn\u001b[0m \u001b[0m_wrapit\u001b[0m\u001b[0;34m(\u001b[0m\u001b[0mobj\u001b[0m\u001b[0;34m,\u001b[0m \u001b[0mmethod\u001b[0m\u001b[0;34m,\u001b[0m \u001b[0;34m*\u001b[0m\u001b[0margs\u001b[0m\u001b[0;34m,\u001b[0m \u001b[0;34m**\u001b[0m\u001b[0mkwds\u001b[0m\u001b[0;34m)\u001b[0m\u001b[0;34m\u001b[0m\u001b[0;34m\u001b[0m\u001b[0m\n\u001b[0m\u001b[1;32m     67\u001b[0m \u001b[0;34m\u001b[0m\u001b[0m\n\u001b[1;32m     68\u001b[0m \u001b[0;34m\u001b[0m\u001b[0m\n",
      "\u001b[0;32m~/opt/anaconda3/lib/python3.9/site-packages/numpy/core/fromnumeric.py\u001b[0m in \u001b[0;36m_wrapit\u001b[0;34m(obj, method, *args, **kwds)\u001b[0m\n\u001b[1;32m     41\u001b[0m     \u001b[0;32mexcept\u001b[0m \u001b[0mAttributeError\u001b[0m\u001b[0;34m:\u001b[0m\u001b[0;34m\u001b[0m\u001b[0;34m\u001b[0m\u001b[0m\n\u001b[1;32m     42\u001b[0m         \u001b[0mwrap\u001b[0m \u001b[0;34m=\u001b[0m \u001b[0;32mNone\u001b[0m\u001b[0;34m\u001b[0m\u001b[0;34m\u001b[0m\u001b[0m\n\u001b[0;32m---> 43\u001b[0;31m     \u001b[0mresult\u001b[0m \u001b[0;34m=\u001b[0m \u001b[0mgetattr\u001b[0m\u001b[0;34m(\u001b[0m\u001b[0masarray\u001b[0m\u001b[0;34m(\u001b[0m\u001b[0mobj\u001b[0m\u001b[0;34m)\u001b[0m\u001b[0;34m,\u001b[0m \u001b[0mmethod\u001b[0m\u001b[0;34m)\u001b[0m\u001b[0;34m(\u001b[0m\u001b[0;34m*\u001b[0m\u001b[0margs\u001b[0m\u001b[0;34m,\u001b[0m \u001b[0;34m**\u001b[0m\u001b[0mkwds\u001b[0m\u001b[0;34m)\u001b[0m\u001b[0;34m\u001b[0m\u001b[0;34m\u001b[0m\u001b[0m\n\u001b[0m\u001b[1;32m     44\u001b[0m     \u001b[0;32mif\u001b[0m \u001b[0mwrap\u001b[0m\u001b[0;34m:\u001b[0m\u001b[0;34m\u001b[0m\u001b[0;34m\u001b[0m\u001b[0m\n\u001b[1;32m     45\u001b[0m         \u001b[0;32mif\u001b[0m \u001b[0;32mnot\u001b[0m \u001b[0misinstance\u001b[0m\u001b[0;34m(\u001b[0m\u001b[0mresult\u001b[0m\u001b[0;34m,\u001b[0m \u001b[0mmu\u001b[0m\u001b[0;34m.\u001b[0m\u001b[0mndarray\u001b[0m\u001b[0;34m)\u001b[0m\u001b[0;34m:\u001b[0m\u001b[0;34m\u001b[0m\u001b[0;34m\u001b[0m\u001b[0m\n",
      "\u001b[0;32m~/opt/anaconda3/lib/python3.9/site-packages/numpy/core/_methods.py\u001b[0m in \u001b[0;36m_clip\u001b[0;34m(a, min, max, out, casting, **kwargs)\u001b[0m\n\u001b[1;32m    158\u001b[0m             um.maximum, a, min, out=out, casting=casting, **kwargs)\n\u001b[1;32m    159\u001b[0m     \u001b[0;32melse\u001b[0m\u001b[0;34m:\u001b[0m\u001b[0;34m\u001b[0m\u001b[0;34m\u001b[0m\u001b[0m\n\u001b[0;32m--> 160\u001b[0;31m         return _clip_dep_invoke_with_casting(\n\u001b[0m\u001b[1;32m    161\u001b[0m             um.clip, a, min, max, out=out, casting=casting, **kwargs)\n\u001b[1;32m    162\u001b[0m \u001b[0;34m\u001b[0m\u001b[0m\n",
      "\u001b[0;32m~/opt/anaconda3/lib/python3.9/site-packages/numpy/core/_methods.py\u001b[0m in \u001b[0;36m_clip_dep_invoke_with_casting\u001b[0;34m(ufunc, out, casting, *args, **kwargs)\u001b[0m\n\u001b[1;32m    112\u001b[0m     \u001b[0;31m# try to deal with broken casting rules\u001b[0m\u001b[0;34m\u001b[0m\u001b[0;34m\u001b[0m\u001b[0m\n\u001b[1;32m    113\u001b[0m     \u001b[0;32mtry\u001b[0m\u001b[0;34m:\u001b[0m\u001b[0;34m\u001b[0m\u001b[0;34m\u001b[0m\u001b[0m\n\u001b[0;32m--> 114\u001b[0;31m         \u001b[0;32mreturn\u001b[0m \u001b[0mufunc\u001b[0m\u001b[0;34m(\u001b[0m\u001b[0;34m*\u001b[0m\u001b[0margs\u001b[0m\u001b[0;34m,\u001b[0m \u001b[0mout\u001b[0m\u001b[0;34m=\u001b[0m\u001b[0mout\u001b[0m\u001b[0;34m,\u001b[0m \u001b[0;34m**\u001b[0m\u001b[0mkwargs\u001b[0m\u001b[0;34m)\u001b[0m\u001b[0;34m\u001b[0m\u001b[0;34m\u001b[0m\u001b[0m\n\u001b[0m\u001b[1;32m    115\u001b[0m     \u001b[0;32mexcept\u001b[0m \u001b[0m_exceptions\u001b[0m\u001b[0;34m.\u001b[0m\u001b[0m_UFuncOutputCastingError\u001b[0m \u001b[0;32mas\u001b[0m \u001b[0me\u001b[0m\u001b[0;34m:\u001b[0m\u001b[0;34m\u001b[0m\u001b[0;34m\u001b[0m\u001b[0m\n\u001b[1;32m    116\u001b[0m         \u001b[0;31m# Numpy 1.17.0, 2019-02-24\u001b[0m\u001b[0;34m\u001b[0m\u001b[0;34m\u001b[0m\u001b[0m\n",
      "\u001b[0;31mUFuncTypeError\u001b[0m: ufunc 'clip' did not contain a loop with signature matching types (dtype('int64'), dtype('<U2'), dtype('<U1')) -> None"
     ]
    }
   ],
   "source": [
    "# Example 3 - breaking (to illustrate when it breaks)\n",
    "a = np.random.randint(-10, 10, size=(5, 5))\n",
    "\n",
    "b = np.clip(a, '-5', '5')\n",
    "print(a)\n",
    "print(b)\n",
    "    \n",
    "    "
   ]
  },
  {
   "cell_type": "markdown",
   "id": "31f9e9ea",
   "metadata": {},
   "source": [
    "In this example, the minimum and maximum values are specified as strings, rather than numeric values. This will cause a TypeError to be raised when np.clip is called, because the dtype of the minimum and maximum values is not compatible with the dtype of the array being clipped.\n",
    "\n",
    "To fix this error, you would need to either convert the minimum and maximum values to a numeric dtype (such as int or float), or use a dtype casting function (such as np.asarray) to convert the array to a dtype that is compatible with the string values."
   ]
  },
  {
   "cell_type": "markdown",
   "id": "39e43d70",
   "metadata": {},
   "source": [
    "## Function 4 - np.copyto\n",
    "\n",
    "NumPy's `np.copyto` function is a tool for copying values from one array to another. It allows you to specify the source array (the array from which the values will be copied) and the destination array (the array to which the values will be copied), and the values in the source array will be copied to the corresponding positions in the destination array.\n",
    "\n"
   ]
  },
  {
   "cell_type": "code",
   "execution_count": 26,
   "id": "3735a945",
   "metadata": {},
   "outputs": [
    {
     "name": "stdout",
     "output_type": "stream",
     "text": [
      "[[0 9 5 4 8]\n",
      " [5 3 3 3 4]\n",
      " [8 9 5 1 5]\n",
      " [8 1 3 6 5]\n",
      " [6 9 1 0 3]]\n",
      "[[0 9 5 4 8]\n",
      " [5 3 3 3 4]\n",
      " [8 9 5 1 5]\n",
      " [8 1 3 6 5]\n",
      " [6 9 1 0 3]]\n"
     ]
    }
   ],
   "source": [
    "# Example 1 - working\n",
    "a = np.random.randint(0, 10, size=(5, 5))\n",
    "\n",
    "b = np.empty_like(a)\n",
    "\n",
    "np.copyto(b, a)\n",
    "\n",
    "print(a)\n",
    "print(b)"
   ]
  },
  {
   "cell_type": "markdown",
   "id": "385a06c8",
   "metadata": {},
   "source": [
    "n this example, a is an array of random values, and b is an empty array with the same shape as a. The values in a are then copied to b using np.copyto, so that b contains the same values as a.\n",
    "\n",
    "`np.copyto` is a useful function for creating copies of arrays, or for transferring values between arrays. It is often used in scientific computing and data analysis applications to create copies of data for further processing or analysis."
   ]
  },
  {
   "cell_type": "code",
   "execution_count": 27,
   "id": "e2e16eb5",
   "metadata": {},
   "outputs": [
    {
     "name": "stdout",
     "output_type": "stream",
     "text": [
      "[ 9 10 11]\n"
     ]
    }
   ],
   "source": [
    "# Example 2 - working\n",
    "\n",
    "a = np.array([6, 5, 11]) \n",
    "b = [9, 10, 11] \n",
    "\n",
    "np.copyto(a, b)\n",
    "\n",
    "print(a)\n",
    "         "
   ]
  },
  {
   "cell_type": "markdown",
   "id": "e3d792aa",
   "metadata": {},
   "source": [
    "In this example, the values of the b list are copied to the a array using np.copyto. The a array is then modified in place, so that its values are set to the copied values.\n",
    "\n",
    "The reason this code works is because the b list can be automatically converted to a NumPy array before the values are copied. This is known as \"implicit casting\" and is a feature of NumPy that allows you to pass lists or other sequences to NumPy functions that expect arrays as input.\n",
    "\n",
    "When you pass a list to np.copyto, NumPy will automatically convert the list to a NumPy array using the np.asarray function. The values of the b list are then copied to the a array using np.copyto, and the a array is modified in place to contain the copied values."
   ]
  },
  {
   "cell_type": "code",
   "execution_count": 28,
   "id": "f4370374",
   "metadata": {},
   "outputs": [
    {
     "ename": "ValueError",
     "evalue": "could not broadcast input array from shape (2,2) into shape (3,3)",
     "output_type": "error",
     "traceback": [
      "\u001b[0;31m---------------------------------------------------------------------------\u001b[0m",
      "\u001b[0;31mValueError\u001b[0m                                Traceback (most recent call last)",
      "\u001b[0;32m/var/folders/my/8pkbz_t570gfhj_kxjwfn3m00000gn/T/ipykernel_5742/1348423193.py\u001b[0m in \u001b[0;36m<module>\u001b[0;34m\u001b[0m\n\u001b[1;32m      4\u001b[0m \u001b[0mb\u001b[0m \u001b[0;34m=\u001b[0m \u001b[0mnp\u001b[0m\u001b[0;34m.\u001b[0m\u001b[0mzeros\u001b[0m\u001b[0;34m(\u001b[0m\u001b[0;34m(\u001b[0m\u001b[0;36m2\u001b[0m\u001b[0;34m,\u001b[0m \u001b[0;36m2\u001b[0m\u001b[0;34m)\u001b[0m\u001b[0;34m)\u001b[0m\u001b[0;34m\u001b[0m\u001b[0;34m\u001b[0m\u001b[0m\n\u001b[1;32m      5\u001b[0m \u001b[0;34m\u001b[0m\u001b[0m\n\u001b[0;32m----> 6\u001b[0;31m \u001b[0mnp\u001b[0m\u001b[0;34m.\u001b[0m\u001b[0mcopyto\u001b[0m\u001b[0;34m(\u001b[0m\u001b[0ma\u001b[0m\u001b[0;34m,\u001b[0m \u001b[0mb\u001b[0m\u001b[0;34m)\u001b[0m\u001b[0;34m\u001b[0m\u001b[0;34m\u001b[0m\u001b[0m\n\u001b[0m",
      "\u001b[0;32m~/opt/anaconda3/lib/python3.9/site-packages/numpy/core/overrides.py\u001b[0m in \u001b[0;36mcopyto\u001b[0;34m(*args, **kwargs)\u001b[0m\n",
      "\u001b[0;31mValueError\u001b[0m: could not broadcast input array from shape (2,2) into shape (3,3)"
     ]
    }
   ],
   "source": [
    "# Example 3 - breaking (to illustrate when it breaks)\n",
    "a = np.zeros((3, 3))\n",
    "\n",
    "b = np.zeros((2, 2))\n",
    "\n",
    "np.copyto(a, b)"
   ]
  },
  {
   "cell_type": "markdown",
   "id": "46a71f4a",
   "metadata": {},
   "source": [
    "In this example, the a array has shape (3, 3), while the b array has shape (2, 2). This means that the shapes of a and b do not match, and an ValueError will be raised when np.copyto is called.\n",
    "\n",
    "To fix this error, you would need to either change the shape of the b array so that it matches the shape of a, or use a compatible indexing method (such as boolean indexing) to specify the locations to copy the values."
   ]
  },
  {
   "cell_type": "markdown",
   "id": "e6d19b11",
   "metadata": {},
   "source": [
    "## function 5 = np.stack\n",
    "\n",
    "NumPy's `np.stack` function is used to stack arrays along a new axis. It allows you to combine multiple arrays into a single array, by concatenating them along a new axis.\n",
    "\n",
    "Here is an example of how np.stack can be used:"
   ]
  },
  {
   "cell_type": "code",
   "execution_count": 30,
   "id": "39ba96e5",
   "metadata": {},
   "outputs": [
    {
     "name": "stdout",
     "output_type": "stream",
     "text": [
      "[[1 2 3]\n",
      " [4 5 6]\n",
      " [7 8 9]]\n"
     ]
    }
   ],
   "source": [
    "# Example 1 - working\n",
    "\n",
    "a = np.array([1, 2, 3])\n",
    "b = np.array([4, 5, 6])\n",
    "c = np.array([7, 8, 9])\n",
    "\n",
    "d = np.stack([a, b, c])\n",
    "\n",
    "print(d)"
   ]
  },
  {
   "cell_type": "markdown",
   "id": "fbe560e7",
   "metadata": {},
   "source": [
    "In this example, the a, b, and c arrays are stacked along a new axis to form a new array d with shape (3, 3). The resulting d array contains the values of the a, b, and c arrays, with the original arrays being concatenated along the new axis."
   ]
  },
  {
   "cell_type": "code",
   "execution_count": 31,
   "id": "78081dbc",
   "metadata": {},
   "outputs": [
    {
     "name": "stdout",
     "output_type": "stream",
     "text": [
      "[[1 2 3]\n",
      " [4 5 6]]\n"
     ]
    }
   ],
   "source": [
    "# Example 2 - working\n",
    "\n",
    "a = np.array([1, 2, 3])\n",
    "b = np.array([4, 5, 6])\n",
    "\n",
    "c = np.stack((a, b),axis=0)\n",
    "print(c)"
   ]
  },
  {
   "cell_type": "markdown",
   "id": "40eaf1c3",
   "metadata": {},
   "source": [
    "In this example Along this axis, in the new array, input arrays are stacked. Possible values are 0 to (n-1) positive integer for n-dimensional output array. For example, in the case of a resultant 2-D array, there are 2 possible axis options :0 and 1. axis=0 means 1D input arrays will be stacked row-wise. axis=1 means 1D input arrays will be stacked column-wise."
   ]
  },
  {
   "cell_type": "code",
   "execution_count": 32,
   "id": "b09db577",
   "metadata": {},
   "outputs": [
    {
     "ename": "ValueError",
     "evalue": "all input arrays must have the same shape",
     "output_type": "error",
     "traceback": [
      "\u001b[0;31m---------------------------------------------------------------------------\u001b[0m",
      "\u001b[0;31mValueError\u001b[0m                                Traceback (most recent call last)",
      "\u001b[0;32m/var/folders/my/8pkbz_t570gfhj_kxjwfn3m00000gn/T/ipykernel_5742/3522070951.py\u001b[0m in \u001b[0;36m<module>\u001b[0;34m\u001b[0m\n\u001b[1;32m      5\u001b[0m \u001b[0mc\u001b[0m \u001b[0;34m=\u001b[0m \u001b[0mnp\u001b[0m\u001b[0;34m.\u001b[0m\u001b[0marray\u001b[0m\u001b[0;34m(\u001b[0m\u001b[0;34m[\u001b[0m\u001b[0;36m7\u001b[0m\u001b[0;34m,\u001b[0m \u001b[0;36m8\u001b[0m\u001b[0;34m]\u001b[0m\u001b[0;34m)\u001b[0m\u001b[0;34m\u001b[0m\u001b[0;34m\u001b[0m\u001b[0m\n\u001b[1;32m      6\u001b[0m \u001b[0;34m\u001b[0m\u001b[0m\n\u001b[0;32m----> 7\u001b[0;31m \u001b[0md\u001b[0m \u001b[0;34m=\u001b[0m \u001b[0mnp\u001b[0m\u001b[0;34m.\u001b[0m\u001b[0mstack\u001b[0m\u001b[0;34m(\u001b[0m\u001b[0;34m[\u001b[0m\u001b[0ma\u001b[0m\u001b[0;34m,\u001b[0m \u001b[0mb\u001b[0m\u001b[0;34m,\u001b[0m \u001b[0mc\u001b[0m\u001b[0;34m]\u001b[0m\u001b[0;34m)\u001b[0m\u001b[0;34m\u001b[0m\u001b[0;34m\u001b[0m\u001b[0m\n\u001b[0m",
      "\u001b[0;32m~/opt/anaconda3/lib/python3.9/site-packages/numpy/core/overrides.py\u001b[0m in \u001b[0;36mstack\u001b[0;34m(*args, **kwargs)\u001b[0m\n",
      "\u001b[0;32m~/opt/anaconda3/lib/python3.9/site-packages/numpy/core/shape_base.py\u001b[0m in \u001b[0;36mstack\u001b[0;34m(arrays, axis, out)\u001b[0m\n\u001b[1;32m    424\u001b[0m     \u001b[0mshapes\u001b[0m \u001b[0;34m=\u001b[0m \u001b[0;34m{\u001b[0m\u001b[0marr\u001b[0m\u001b[0;34m.\u001b[0m\u001b[0mshape\u001b[0m \u001b[0;32mfor\u001b[0m \u001b[0marr\u001b[0m \u001b[0;32min\u001b[0m \u001b[0marrays\u001b[0m\u001b[0;34m}\u001b[0m\u001b[0;34m\u001b[0m\u001b[0;34m\u001b[0m\u001b[0m\n\u001b[1;32m    425\u001b[0m     \u001b[0;32mif\u001b[0m \u001b[0mlen\u001b[0m\u001b[0;34m(\u001b[0m\u001b[0mshapes\u001b[0m\u001b[0;34m)\u001b[0m \u001b[0;34m!=\u001b[0m \u001b[0;36m1\u001b[0m\u001b[0;34m:\u001b[0m\u001b[0;34m\u001b[0m\u001b[0;34m\u001b[0m\u001b[0m\n\u001b[0;32m--> 426\u001b[0;31m         \u001b[0;32mraise\u001b[0m \u001b[0mValueError\u001b[0m\u001b[0;34m(\u001b[0m\u001b[0;34m'all input arrays must have the same shape'\u001b[0m\u001b[0;34m)\u001b[0m\u001b[0;34m\u001b[0m\u001b[0;34m\u001b[0m\u001b[0m\n\u001b[0m\u001b[1;32m    427\u001b[0m \u001b[0;34m\u001b[0m\u001b[0m\n\u001b[1;32m    428\u001b[0m     \u001b[0mresult_ndim\u001b[0m \u001b[0;34m=\u001b[0m \u001b[0marrays\u001b[0m\u001b[0;34m[\u001b[0m\u001b[0;36m0\u001b[0m\u001b[0;34m]\u001b[0m\u001b[0;34m.\u001b[0m\u001b[0mndim\u001b[0m \u001b[0;34m+\u001b[0m \u001b[0;36m1\u001b[0m\u001b[0;34m\u001b[0m\u001b[0;34m\u001b[0m\u001b[0m\n",
      "\u001b[0;31mValueError\u001b[0m: all input arrays must have the same shape"
     ]
    }
   ],
   "source": [
    "#Example 3 - breaking (to illustrate when it breaks)\n",
    "\n",
    "a = np.array([1, 2, 3])\n",
    "b = np.array([4, 5, 6])\n",
    "c = np.array([7, 8])\n",
    "\n",
    "d = np.stack([a, b, c])"
   ]
  },
  {
   "cell_type": "markdown",
   "id": "4590ea79",
   "metadata": {},
   "source": [
    "In this example, the a, b, and c arrays have different shapes, so np.stack will raise a ValueError. This is because np.stack requires that the input arrays have the same shape, so that they can be concatenated along the new axis.\n",
    "\n",
    "To fix this error, you would need to either ensure that the input arrays have the same shape, or use a compatible indexing method (such as boolean indexing) to specify the locations to stack the values."
   ]
  },
  {
   "cell_type": "markdown",
   "id": "b1bac000",
   "metadata": {},
   "source": [
    "# Conclusion\n",
    "\n",
    "NumPy is a powerful library for scientific computing and data analysis in Python. It provides a wide range of functions and features that allow you to work with arrays and matrices of numerical data, including tools for indexing, reshaping, and manipulating arrays, as well as functions for performing mathematical operations on arrays.\n",
    "\n",
    "Some of the key features and functions of NumPy include:\n",
    "\n",
    "* array: A flexible, multi-dimensional array that can hold any type of data. NumPy's ndarray is used to store and manipulate large arrays of numerical data efficiently.\n",
    "\n",
    "* Array indexing: NumPy provides several methods for indexing and selecting elements from arrays, including integer indexing, boolean indexing, and slicing.\n",
    "\n",
    "* Array reshaping: NumPy's reshape function allows you to change the shape of an array, while the ravel function flattens an array into a 1D array.\n",
    "\n",
    "* Array manipulation: NumPy provides functions for rotating, flipping, and transposing arrays, as well as functions for sorting and searching arrays.\n",
    "\n",
    "* Mathematical operations: NumPy provides a wide range of functions for performing mathematical operations on arrays, including functions for basic arithmetic, trigonometry, and linear algebra.\n",
    "\n",
    "Overall, NumPy is an essential tool for anyone working with numerical data in Python, and is widely used in scientific computing and data analysis applications."
   ]
  },
  {
   "cell_type": "markdown",
   "id": "0fafe780",
   "metadata": {},
   "source": [
    "# Reference Links\n",
    "Provide links to your references and other interesting articles about Numpy arrays:\n",
    "\n",
    "* Numpy official tutorial : https://numpy.org/doc/stable/user/quickstart.html\n",
    "* Numpy Reference:https://numpy.org/doc/stable/reference/index.html"
   ]
  },
  {
   "cell_type": "code",
   "execution_count": 33,
   "id": "1d2c7d99",
   "metadata": {},
   "outputs": [
    {
     "data": {
      "application/javascript": [
       "window.require && require([\"base/js/namespace\"],function(Jupyter){Jupyter.notebook.save_checkpoint()})"
      ],
      "text/plain": [
       "<IPython.core.display.Javascript object>"
      ]
     },
     "metadata": {},
     "output_type": "display_data"
    },
    {
     "name": "stdout",
     "output_type": "stream",
     "text": [
      "[jovian] Updating notebook \"nikpatel6596/numpy-array-operations\" on https://jovian.ai/\u001b[0m\n",
      "[jovian] Committed successfully! https://jovian.ai/nikpatel6596/numpy-array-operations\u001b[0m\n"
     ]
    },
    {
     "data": {
      "text/plain": [
       "'https://jovian.ai/nikpatel6596/numpy-array-operations'"
      ]
     },
     "execution_count": 33,
     "metadata": {},
     "output_type": "execute_result"
    }
   ],
   "source": [
    "jovian.commit()"
   ]
  },
  {
   "cell_type": "code",
   "execution_count": null,
   "id": "62598f51",
   "metadata": {},
   "outputs": [],
   "source": []
  }
 ],
 "metadata": {
  "kernelspec": {
   "display_name": "Python 3 (ipykernel)",
   "language": "python",
   "name": "python3"
  },
  "language_info": {
   "codemirror_mode": {
    "name": "ipython",
    "version": 3
   },
   "file_extension": ".py",
   "mimetype": "text/x-python",
   "name": "python",
   "nbconvert_exporter": "python",
   "pygments_lexer": "ipython3",
   "version": "3.9.13"
  }
 },
 "nbformat": 4,
 "nbformat_minor": 5
}
